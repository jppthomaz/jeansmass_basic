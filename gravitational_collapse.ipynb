{
 "cells": [
  {
   "cell_type": "code",
   "execution_count": null,
   "metadata": {},
   "outputs": [],
   "source": [
    "from scipy import constants\n",
    "import numpy as np"
   ]
  },
  {
   "cell_type": "code",
   "execution_count": null,
   "metadata": {},
   "outputs": [],
   "source": [
    "G = constants.G\n",
    "kb = constants.k\n",
    "u = constants.value('atomic mass constant')\n",
    "mh = u*1.00784\n",
    "sun = 1.989*10**30\n",
    "c=constants.c"
   ]
  },
  {
   "cell_type": "code",
   "execution_count": null,
   "metadata": {},
   "outputs": [],
   "source": [
    "b = (3/(4*np.pi))**(1/2) #Splitting jeans' mass equation into two\n",
    "a = ((5*kb)/(mh*G))**(3/2) #Splitting jeans' mass equation into two\n",
    "x = (a*b)/sun #Comparing mass result to sun's mass\n",
    "class jean:\n",
    "        def __init__(obj, T, m, n): #Inputs: 'T' temperature, 'm' weighted arithmetic mean, 'n' number of particles per m^-3\n",
    "            obj.T = T\n",
    "            obj.m = m\n",
    "            obj.n = n*mh\n",
    "            \n",
    "        def mass(obj):\n",
    "            return ((obj.T/obj.m)**(3/2)*((1/obj.n)**(1/2))*x)\n",
    "        \n",
    "        def p(obj):\n",
    "            return (obj.n*kb*obj.T/(obj.m*mh))\n",
    "        \n",
    "        def comparision(obj,meff): #Compares theoretical predictions to the observable, the effective mass of the dust cloud.\n",
    "            if jean.mass(obj)<meff:\n",
    "                return 'Collapse, m_jean reached'\n",
    "            if jean.mass(obj)>meff:\n",
    "                return 'Do not collapse, m_jean not reached'\n"
   ]
  },
  {
   "cell_type": "code",
   "execution_count": null,
   "metadata": {},
   "outputs": [],
   "source": [
    "#dust1 = jean(15,1,10e11)\n",
    "#print(jean.comparision(dust1,5)) #5 solar masses is the effective observable mass of the cloud"
   ]
  }
 ],
 "metadata": {
  "kernelspec": {
   "display_name": "Python 3",
   "language": "python",
   "name": "python3"
  },
  "language_info": {
   "codemirror_mode": {
    "name": "ipython",
    "version": 3
   },
   "file_extension": ".py",
   "mimetype": "text/x-python",
   "name": "python",
   "nbconvert_exporter": "python",
   "pygments_lexer": "ipython3",
   "version": "3.8.3"
  }
 },
 "nbformat": 4,
 "nbformat_minor": 4
}
